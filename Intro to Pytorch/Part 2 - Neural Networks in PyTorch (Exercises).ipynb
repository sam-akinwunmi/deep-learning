{
 "cells": [
  {
   "cell_type": "markdown",
   "metadata": {},
   "source": [
    "# Neural networks with PyTorch\n",
    "\n",
    "Deep learning networks tend to be massive with dozens or hundreds of layers, that's where the term \"deep\" comes from. You can build one of these deep networks using only weight matrices as we did in the previous notebook, but in general it's very cumbersome and difficult to implement. PyTorch has a nice module `nn` that provides a nice way to efficiently build large neural networks."
   ]
  },
  {
   "cell_type": "code",
   "execution_count": 1,
   "metadata": {},
   "outputs": [],
   "source": [
    "# Import necessary packages\n",
    "\n",
    "%matplotlib inline\n",
    "%config InlineBackend.figure_format = 'retina'\n",
    "\n",
    "import numpy as np\n",
    "import torch\n",
    "\n",
    "import helper\n",
    "\n",
    "import matplotlib.pyplot as plt"
   ]
  },
  {
   "cell_type": "markdown",
   "metadata": {},
   "source": [
    "\n",
    "Now we're going to build a larger network that can solve a (formerly) difficult problem, identifying text in an image. Here we'll use the MNIST dataset which consists of greyscale handwritten digits. Each image is 28x28 pixels, you can see a sample below\n",
    "\n",
    "<img src='assets/mnist.png'>\n",
    "\n",
    "Our goal is to build a neural network that can take one of these images and predict the digit in the image.\n",
    "\n",
    "First up, we need to get our dataset. This is provided through the `torchvision` package. The code below will download the MNIST dataset, then create training and test datasets for us. Don't worry too much about the details here, you'll learn more about this later."
   ]
  },
  {
   "cell_type": "code",
   "execution_count": 2,
   "metadata": {},
   "outputs": [
    {
     "name": "stdout",
     "output_type": "stream",
     "text": [
      "Downloading http://yann.lecun.com/exdb/mnist/train-images-idx3-ubyte.gz\n",
      "Downloading http://yann.lecun.com/exdb/mnist/train-labels-idx1-ubyte.gz\n",
      "Downloading http://yann.lecun.com/exdb/mnist/t10k-images-idx3-ubyte.gz\n",
      "Downloading http://yann.lecun.com/exdb/mnist/t10k-labels-idx1-ubyte.gz\n",
      "Processing...\n",
      "Done!\n"
     ]
    }
   ],
   "source": [
    "### Run this cell\n",
    "\n",
    "from torchvision import datasets, transforms\n",
    "\n",
    "# Define a transform to normalize the data\n",
    "transform = transforms.Compose([transforms.ToTensor(),\n",
    "                              transforms.Normalize((0.5,), (0.5,)),\n",
    "                              ])\n",
    "\n",
    "# Download and load the training data\n",
    "trainset = datasets.MNIST('~/.pytorch/MNIST_data/', download=True, train=True, transform=transform)\n",
    "trainloader = torch.utils.data.DataLoader(trainset, batch_size=64, shuffle=True)"
   ]
  },
  {
   "cell_type": "markdown",
   "metadata": {},
   "source": [
    "We have the training data loaded into `trainloader` and we make that an iterator with `iter(trainloader)`. Later, we'll use this to loop through the dataset for training, like\n",
    "\n",
    "```python\n",
    "for image, label in trainloader:\n",
    "    ## do things with images and labels\n",
    "```\n",
    "\n",
    "You'll notice I created the `trainloader` with a batch size of 64, and `shuffle=True`. The batch size is the number of images we get in one iteration from the data loader and pass through our network, often called a *batch*. And `shuffle=True` tells it to shuffle the dataset every time we start going through the data loader again. But here I'm just grabbing the first batch so we can check out the data. We can see below that `images` is just a tensor with size `(64, 1, 28, 28)`. So, 64 images per batch, 1 color channel, and 28x28 images."
   ]
  },
  {
   "cell_type": "code",
   "execution_count": 3,
   "metadata": {},
   "outputs": [
    {
     "name": "stdout",
     "output_type": "stream",
     "text": [
      "<class 'torch.Tensor'>\n",
      "torch.Size([64, 1, 28, 28])\n",
      "torch.Size([64])\n"
     ]
    }
   ],
   "source": [
    "dataiter = iter(trainloader)\n",
    "images, labels = dataiter.next()\n",
    "print(type(images))\n",
    "print(images.shape)\n",
    "print(labels.shape)"
   ]
  },
  {
   "cell_type": "markdown",
   "metadata": {},
   "source": [
    "This is what one of the images looks like. "
   ]
  },
  {
   "cell_type": "code",
   "execution_count": 4,
   "metadata": {},
   "outputs": [
    {
     "data": {
      "image/png": "[encoded data removed]",
      "text/plain": [
       "<matplotlib.figure.Figure at 0x7fd2b5eee908>"
      ]
     },
     "metadata": {
      "image/png": {
       "height": 250,
       "width": 253
      },
      "needs_background": "light"
     },
     "output_type": "display_data"
    }
   ],
   "source": [
    "plt.imshow(images[1].numpy().squeeze(), cmap='Greys_r');"
   ]
  },
  {
   "cell_type": "markdown",
   "metadata": {},
   "source": [
    "First, let's try to build a simple network for this dataset using weight matrices and matrix multiplications. Then, we'll see how to do it using PyTorch's `nn` module which provides a much more convenient and powerful method for defining network architectures.\n",
    "\n",
    "The networks you've seen so far are called *fully-connected* or *dense* networks. Each unit in one layer is connected to each unit in the next layer. In fully-connected networks, the input to each layer must be a one-dimensional vector (which can be stacked into a 2D tensor as a batch of multiple examples). However, our images are 28x28 2D tensors, so we need to convert them into 1D vectors. Thinking about sizes, we need to convert the batch of images with shape `(64, 1, 28, 28)` to a have a shape of `(64, 784)`, 784 is 28 times 28. This is typically called *flattening*, we flattened the 2D images into 1D vectors.\n",
    "\n",
    "Previously you built a network with one output unit. Here we need 10 output units, one for each digit. We want our network to predict the digit shown in an image, so what we'll do is calculate probabilities that the image is of any one digit or class. This ends up being a discrete probability distribution over the classes (digits) that tells us the most likely class for the image. That means we need 10 output units for the 10 classes (digits). We'll see how to convert the network output into a probability distribution next.\n",
    "\n",
    "> **Exercise:** Flatten the batch of images `images`. Then build a multi-layer network with 784 input units, 256 hidden units, and 10 output units using random tensors for the weights and biases. For now, use a sigmoid activation for the hidden layer. Leave the output layer without an activation, we'll add one that gives us a probability distribution next."
   ]
  },
  {
   "cell_type": "code",
   "execution_count": 5,
   "metadata": {},
   "outputs": [],
   "source": [
    "def activation(x):\n",
    "    \"\"\" Sigmoid activation function \n",
    "    \n",
    "        Arguments\n",
    "        ---------\n",
    "        x: torch.Tensor\n",
    "    \"\"\"\n",
    "    return 1/(1+torch.exp(-x))"
   ]
  },
  {
   "cell_type": "code",
   "execution_count": 6,
   "metadata": {},
   "outputs": [],
   "source": [
    "## Your solution\n",
    "torch.manual_seed(7)\n",
    "\n",
    "n_input = 784\n",
    "n_hidden = 256\n",
    "n_output = 10\n",
    "\n",
    "W1 = torch.randn(n_input, n_hidden)\n",
    "W2 = torch.randn(n_hidden, n_output)\n",
    "\n",
    "B1 = torch.randn((1, n_hidden))\n",
    "B2 = torch.randn((1, n_output))"
   ]
  },
  {
   "cell_type": "code",
   "execution_count": 7,
   "metadata": {},
   "outputs": [
    {
     "data": {
      "text/plain": [
       "torch.Size([64, 10])"
      ]
     },
     "execution_count": 7,
     "metadata": {},
     "output_type": "execute_result"
    }
   ],
   "source": [
    "# features dot weights\n",
    "input_hidden = activation(torch.mm(images.view(64,784), W1) + B1)\n",
    "\n",
    "out = torch.mm(input_hidden, W2) + B2 # output of your network, should have shape (64,10)\n",
    "\n",
    "out.shape"
   ]
  },
  {
   "cell_type": "code",
   "execution_count": 8,
   "metadata": {},
   "outputs": [
    {
     "data": {
      "text/plain": [
       "tensor([[-13.1541,  -0.4034,  -7.7190,  -6.2795,   3.2708,   2.4230,\n",
       "         -18.2861,   8.9357, -13.0049,   1.0748],\n",
       "        [-15.0899,  -5.6670,  -4.3796, -11.1392,  10.6048,   6.8460,\n",
       "          -7.6632,  14.5417, -15.2718,  -4.2345],\n",
       "        [-11.2451,  -5.9071,  -3.5342,  -1.5084,  15.2876,   4.6998,\n",
       "          -3.1004,   3.6736, -13.9242,   2.5567],\n",
       "        [-19.4979,  -1.3895,  -1.3783,  -8.7286,   5.3337,  -0.5713,\n",
       "           4.6199,  -8.4105, -12.6010,   5.7575],\n",
       "        [-14.8898,  -5.0438,  -7.0139, -13.6709,  10.1162,   9.7022,\n",
       "          -4.5776,   2.2575, -14.5703,  10.5467],\n",
       "        [-19.4112,  -9.2633,   2.5876, -13.4302,   6.8766,   8.1256,\n",
       "          -1.6456,  -4.3908,  -8.4412,  -2.5835],\n",
       "        [-13.9266,  -9.3661,   4.7502, -16.8628,   0.9293,   4.9160,\n",
       "          -4.2582,  -1.2930,  -9.2117,  -0.4151],\n",
       "        [-13.0076,  -8.9072,   1.2885, -11.4066,   9.5388,   5.3446,\n",
       "         -12.2862,   0.5641,  -9.6651,  -5.8695],\n",
       "        [-20.6227,  -8.8956,  -5.3619, -17.3613,   9.4707,   3.1920,\n",
       "         -10.0437,   2.2564, -15.8887,  -6.0941],\n",
       "        [-11.7757,  -9.9147,  -0.7888, -12.9080,   6.5733,   4.7381,\n",
       "          -8.5436,   4.1672,  -8.8358,  -5.8266],\n",
       "        [ -6.6581,  -1.8165,   1.7637, -10.5563,   8.0573,   4.7235,\n",
       "          -9.1658,  -1.1178, -11.0458,  -4.5457],\n",
       "        [-14.6497, -13.5330,   1.3955,   0.2930,   5.4111,   3.2798,\n",
       "          -3.3476,   0.4174, -14.1050,  -4.5550],\n",
       "        [-10.5353,  -2.7726,   0.9603,  -6.0683,   6.3812,   7.3962,\n",
       "          -1.3409,   2.7038, -12.2773,  -7.2588],\n",
       "        [-12.2044, -12.5687,   0.2751,  -8.2114,   5.1356,   1.8643,\n",
       "          -3.8472,   2.6133, -10.6282,  -7.7202],\n",
       "        [-13.5563, -14.2775, -10.4836, -13.8137,   5.1816,   7.2535,\n",
       "          -0.5185,   5.4493,  -3.2189,  -1.9158],\n",
       "        [-12.5252, -13.8916,   6.3232,  -7.2214,   0.9966,   4.1027,\n",
       "         -10.4410,   5.8084, -12.2370,  -6.8497],\n",
       "        [-22.4629,  -5.9399,   2.8291, -12.1078,   3.7923,   5.1210,\n",
       "         -10.9994,   2.0380,  -6.9228,   4.2334],\n",
       "        [ -6.6026,  -8.9836,   6.3833,  -9.3498,   7.7170,  14.5369,\n",
       "           1.6214,  -6.7377, -12.2747,  -6.5821],\n",
       "        [-10.7723,  -6.3109,  -1.3950,  -9.9909,   1.9511,   2.5843,\n",
       "         -11.8596,   3.6336,   0.0497,  -2.7953],\n",
       "        [-13.5788,   0.7506,   0.8210,   0.0759,  10.8336,   4.5359,\n",
       "           4.4519,  -0.1972, -19.4482,  -1.0322],\n",
       "        [ -1.9538,   4.6422,   3.7121, -15.8709,   3.1410,  13.8650,\n",
       "          -3.7212,  -5.3630, -15.3369,   2.1074],\n",
       "        [-14.9428,  -7.5588,   0.5041,  -6.6031,   7.0315,  15.8531,\n",
       "          -2.0829,   2.3045, -12.7378,  -7.6283],\n",
       "        [-17.4631, -13.7093,  -0.9540, -21.2549,   0.8629,  12.3640,\n",
       "         -10.1537,   1.9146, -11.6383,   3.4009],\n",
       "        [-22.0862, -14.4908,   2.7971,  -3.6718,  12.6318,   3.8661,\n",
       "         -13.4583,   3.9038,  -5.0416,  -4.4144],\n",
       "        [-15.0116,  -7.7306,  -4.1247,  -7.8659,   6.0359,   8.6336,\n",
       "          -7.2967,   0.3662, -15.7366,   2.9822],\n",
       "        [-10.3480,  -9.6174,  -2.6930, -13.0574,  -2.6924,  19.2497,\n",
       "           0.0419,  -1.7754, -16.3813,  -1.3089],\n",
       "        [-12.3413, -10.1045,  -1.1518,  -9.8798,  11.7235,   3.7359,\n",
       "          -0.1992,   3.8470,  -7.8280,  -6.1312],\n",
       "        [-11.9141, -14.6547,  -0.0448,  -8.0741,   1.4700,  -2.4746,\n",
       "          -7.2589,  -5.0793, -10.7861,   3.3101],\n",
       "        [ -8.6852,  -5.2859,   0.8823,  -9.7360,   4.6070,   7.5912,\n",
       "         -12.4234,   3.2431,  -9.7633,  -5.5526],\n",
       "        [-20.1532, -17.4927,  -1.7398, -19.4197,   2.3274,  18.5780,\n",
       "         -12.0524,   5.7533, -25.3850,   1.6691],\n",
       "        [-10.9955,   5.5262,   0.4421, -13.7576,  -4.6748,   4.1319,\n",
       "         -11.1516,  -5.4774,  -7.1565,   0.2056],\n",
       "        [-13.3290,  -3.2159,   5.5142,  -2.3212,   4.3691,   6.4018,\n",
       "         -12.9348, -13.7034,  -9.3396,   4.1456],\n",
       "        [-13.8485, -14.0428,   0.9392,  -9.4128,   6.7500,   4.8341,\n",
       "          -4.6918,   1.5267, -12.7549,  -6.4924],\n",
       "        [-26.3651,  -8.6847, -12.3488,  -5.2906,   2.5292,   1.6130,\n",
       "         -10.1938,  12.6868, -10.2444, -14.3046],\n",
       "        [-14.5671,  -5.0876,   4.4669,  -7.0196,   9.0646,  -0.4711,\n",
       "          -5.8441,   1.3986, -19.6274,  -2.0130],\n",
       "        [-11.1077,  -5.1097,   0.7026, -15.4811,   5.9795,   4.9848,\n",
       "          -7.8301,   9.9335, -12.9684,  -3.2224],\n",
       "        [ -8.5213,  -7.8058,  -0.9407,  -8.7546,  12.6399,   3.1232,\n",
       "          -8.6821,   2.7031,  -7.7941,  -7.7928],\n",
       "        [-14.3441, -11.9612,   4.7156, -13.1663,   4.4234,   6.6932,\n",
       "          -2.2260,  -1.4637, -13.8811,  -1.4260],\n",
       "        [-18.0948, -15.7739,  -7.8600, -13.8527,   6.7329,  14.1636,\n",
       "          -7.0327,  -9.6582, -16.3700,  -5.3176],\n",
       "        [-11.7807,  -7.7687,   8.0218, -13.6926,   6.9990,   8.5851,\n",
       "          -7.6883,   4.9041, -10.3372,   1.3057],\n",
       "        [-22.6880,  -5.1931,   0.8622, -16.6700,  11.4591,   4.1963,\n",
       "         -14.0253,   6.2723, -10.7653,  -6.5354],\n",
       "        [-13.3158,  -3.6644,   0.8010,   3.2178,  12.2221,  15.0545,\n",
       "         -11.5512,  -3.8779,  -2.0647,   2.2816],\n",
       "        [-14.2293, -10.9152, -11.3374, -11.7566,   1.5127,  15.8726,\n",
       "           5.2392,   6.6868, -13.8491,   2.6642],\n",
       "        [-11.5320,   0.2105,   7.8309,  -4.2755,  -1.4163,   6.9006,\n",
       "          -5.5405,  -3.9138, -12.5027,  -4.3548],\n",
       "        [ -9.4851, -12.2166,  -2.3270,  -8.1289,   7.9203,   3.2310,\n",
       "           4.9374,   5.8782,  -5.5349,  -1.8096],\n",
       "        [ -5.5627, -13.4125,   3.2230,  -7.9737,   2.4120,   5.2343,\n",
       "          -5.2570,   4.0170, -10.5858, -10.4994],\n",
       "        [-18.6146,  -1.0026,  -6.3029, -11.9084,  16.5172,   7.3056,\n",
       "          -0.5101,   0.5128, -13.6239, -12.8537],\n",
       "        [-16.0091, -15.1799,  -1.3720, -19.0890,  -4.5771,   7.9796,\n",
       "          -7.7603,   5.4045, -11.9329,  -3.5370],\n",
       "        [-13.8635,  -8.7505,   3.2574, -16.1765,   2.4864,   9.4268,\n",
       "          -9.0142,   2.3629, -19.4786,  -1.1083],\n",
       "        [-12.7025,  -9.1447,   2.0584,  -4.9754,   3.3576,   7.3905,\n",
       "           2.6046,   3.3667, -12.7637,  -7.7815],\n",
       "        [ -9.2175, -11.1237,  -8.8704, -11.1120,   8.1449,  11.7621,\n",
       "         -11.2027,  -4.1743, -13.9092,  -3.7400],\n",
       "        [-15.2417,  -4.5716,   7.1687, -11.0535,   7.6139,   1.2393,\n",
       "          -5.9303,   3.9451,  -5.9847, -11.3339],\n",
       "        [-15.7593,   2.1734,  -0.2424, -12.7324,   7.5758,   2.8830,\n",
       "          -1.2181,   2.3416, -12.0615,  -8.3658],\n",
       "        [-14.6931,  -5.1067,  -6.9779, -18.4631,  11.6727,   5.6790,\n",
       "           2.2781,   8.0736, -14.6890, -11.0615],\n",
       "        [-10.3971,   3.8720,   7.0866,  -5.5592,   1.1342,   2.6029,\n",
       "          -2.7818,   0.9601,  -7.5947,   2.8583],\n",
       "        [ -9.0997,  -3.0107,  -4.1454,  -9.7313,   1.4893,  14.7748,\n",
       "           0.8532,  -7.9802, -15.8119,  -8.3576],\n",
       "        [-10.2224, -10.2000,  -1.4016,  -4.0274,  13.5815,   8.0217,\n",
       "          -9.9060,  -4.9797, -17.8301,  -5.6791],\n",
       "        [ -7.7078,  -4.0776,  -8.8896,  -7.4390,  15.1746,  12.5247,\n",
       "         -13.6393,   8.2536,  -6.5449, -11.2882],\n",
       "        [-18.0074,  -9.2193,   1.3367, -16.1934,   8.7444,  10.9048,\n",
       "         -11.4972,   6.3728,  -3.0222,  -8.8736],\n",
       "        [-17.7759,  13.3838,   1.3666,  -9.7097,  -0.1600,  -1.3015,\n",
       "          -1.4872,  -6.7276, -12.9531,   3.1488],\n",
       "        [-18.9587,  -2.7770,  11.3271,   3.1415,  14.0703,  13.5053,\n",
       "         -14.1297,  -8.0178,  -5.3535,   1.0748],\n",
       "        [-19.8033, -14.1994,  -9.4815,  -8.6714,   9.7357,   4.2416,\n",
       "          -0.7087,  11.6416, -10.5077,  -6.2891],\n",
       "        [-14.9160,  -5.9965,  -9.2816, -23.9307,   3.5045,  17.9615,\n",
       "          -6.3600,   5.6614, -15.3372,   2.1733],\n",
       "        [ -7.7133,  -7.0591,  11.9801,  -5.4151,   1.2757,   8.0983,\n",
       "          -1.0464,  -0.2254,  -6.5172,   2.7468]])"
      ]
     },
     "execution_count": 8,
     "metadata": {},
     "output_type": "execute_result"
    }
   ],
   "source": [
    "out"
   ]
  },
  {
   "cell_type": "markdown",
   "metadata": {},
   "source": [
    "Now we have 10 outputs for our network. We want to pass in an image to our network and get out a probability distribution over the classes that tells us the likely class(es) the image belongs to. Something that looks like this:\n",
    "<img src='assets/image_distribution.png' width=500px>\n",
    "\n",
    "Here we see that the probability for each class is roughly the same. This is representing an untrained network, it hasn't seen any data yet so it just returns a uniform distribution with equal probabilities for each class.\n",
    "\n",
    "To calculate this probability distribution, we often use the [**softmax** function](https://en.wikipedia.org/wiki/Softmax_function). Mathematically this looks like\n",
    "\n",
    "$$\n",
    "\\Large \\sigma(x_i) = \\cfrac{e^{x_i}}{\\sum_k^K{e^{x_k}}}\n",
    "$$\n",
    "\n",
    "What this does is squish each input $x_i$ between 0 and 1 and normalizes the values to give you a proper probability distribution where the probabilites sum up to one.\n",
    "\n",
    "> **Exercise:** Implement a function `softmax` that performs the softmax calculation and returns probability distributions for each example in the batch. Note that you'll need to pay attention to the shapes when doing this. If you have a tensor `a` with shape `(64, 10)` and a tensor `b` with shape `(64,)`, doing `a/b` will give you an error because PyTorch will try to do the division across the columns (called broadcasting) but you'll get a size mismatch. The way to think about this is for each of the 64 examples, you only want to divide by one value, the sum in the denominator. So you need `b` to have a shape of `(64, 1)`. This way PyTorch will divide the 10 values in each row of `a` by the one value in each row of `b`. Pay attention to how you take the sum as well. You'll need to define the `dim` keyword in `torch.sum`. Setting `dim=0` takes the sum across the rows while `dim=1` takes the sum across the columns."
   ]
  },
  {
   "cell_type": "code",
   "execution_count": 9,
   "metadata": {},
   "outputs": [
    {
     "data": {
      "text/plain": [
       "tensor([[-13.1541,  -0.4034,  -7.7190,  -6.2795,   3.2708,   2.4230,\n",
       "         -18.2861,   8.9357, -13.0049,   1.0748],\n",
       "        [-15.0899,  -5.6670,  -4.3796, -11.1392,  10.6048,   6.8460,\n",
       "          -7.6632,  14.5417, -15.2718,  -4.2345],\n",
       "        [-11.2451,  -5.9071,  -3.5342,  -1.5084,  15.2876,   4.6998,\n",
       "          -3.1004,   3.6736, -13.9242,   2.5567],\n",
       "        [-19.4979,  -1.3895,  -1.3783,  -8.7286,   5.3337,  -0.5713,\n",
       "           4.6199,  -8.4105, -12.6010,   5.7575],\n",
       "        [-14.8898,  -5.0438,  -7.0139, -13.6709,  10.1162,   9.7022,\n",
       "          -4.5776,   2.2575, -14.5703,  10.5467],\n",
       "        [-19.4112,  -9.2633,   2.5876, -13.4302,   6.8766,   8.1256,\n",
       "          -1.6456,  -4.3908,  -8.4412,  -2.5835],\n",
       "        [-13.9266,  -9.3661,   4.7502, -16.8628,   0.9293,   4.9160,\n",
       "          -4.2582,  -1.2930,  -9.2117,  -0.4151],\n",
       "        [-13.0076,  -8.9072,   1.2885, -11.4066,   9.5388,   5.3446,\n",
       "         -12.2862,   0.5641,  -9.6651,  -5.8695],\n",
       "        [-20.6227,  -8.8956,  -5.3619, -17.3613,   9.4707,   3.1920,\n",
       "         -10.0437,   2.2564, -15.8887,  -6.0941],\n",
       "        [-11.7757,  -9.9147,  -0.7888, -12.9080,   6.5733,   4.7381,\n",
       "          -8.5436,   4.1672,  -8.8358,  -5.8266],\n",
       "        [ -6.6581,  -1.8165,   1.7637, -10.5563,   8.0573,   4.7235,\n",
       "          -9.1658,  -1.1178, -11.0458,  -4.5457],\n",
       "        [-14.6497, -13.5330,   1.3955,   0.2930,   5.4111,   3.2798,\n",
       "          -3.3476,   0.4174, -14.1050,  -4.5550],\n",
       "        [-10.5353,  -2.7726,   0.9603,  -6.0683,   6.3812,   7.3962,\n",
       "          -1.3409,   2.7038, -12.2773,  -7.2588],\n",
       "        [-12.2044, -12.5687,   0.2751,  -8.2114,   5.1356,   1.8643,\n",
       "          -3.8472,   2.6133, -10.6282,  -7.7202],\n",
       "        [-13.5563, -14.2775, -10.4836, -13.8137,   5.1816,   7.2535,\n",
       "          -0.5185,   5.4493,  -3.2189,  -1.9158],\n",
       "        [-12.5252, -13.8916,   6.3232,  -7.2214,   0.9966,   4.1027,\n",
       "         -10.4410,   5.8084, -12.2370,  -6.8497],\n",
       "        [-22.4629,  -5.9399,   2.8291, -12.1078,   3.7923,   5.1210,\n",
       "         -10.9994,   2.0380,  -6.9228,   4.2334],\n",
       "        [ -6.6026,  -8.9836,   6.3833,  -9.3498,   7.7170,  14.5369,\n",
       "           1.6214,  -6.7377, -12.2747,  -6.5821],\n",
       "        [-10.7723,  -6.3109,  -1.3950,  -9.9909,   1.9511,   2.5843,\n",
       "         -11.8596,   3.6336,   0.0497,  -2.7953],\n",
       "        [-13.5788,   0.7506,   0.8210,   0.0759,  10.8336,   4.5359,\n",
       "           4.4519,  -0.1972, -19.4482,  -1.0322],\n",
       "        [ -1.9538,   4.6422,   3.7121, -15.8709,   3.1410,  13.8650,\n",
       "          -3.7212,  -5.3630, -15.3369,   2.1074],\n",
       "        [-14.9428,  -7.5588,   0.5041,  -6.6031,   7.0315,  15.8531,\n",
       "          -2.0829,   2.3045, -12.7378,  -7.6283],\n",
       "        [-17.4631, -13.7093,  -0.9540, -21.2549,   0.8629,  12.3640,\n",
       "         -10.1537,   1.9146, -11.6383,   3.4009],\n",
       "        [-22.0862, -14.4908,   2.7971,  -3.6718,  12.6318,   3.8661,\n",
       "         -13.4583,   3.9038,  -5.0416,  -4.4144],\n",
       "        [-15.0116,  -7.7306,  -4.1247,  -7.8659,   6.0359,   8.6336,\n",
       "          -7.2967,   0.3662, -15.7366,   2.9822],\n",
       "        [-10.3480,  -9.6174,  -2.6930, -13.0574,  -2.6924,  19.2497,\n",
       "           0.0419,  -1.7754, -16.3813,  -1.3089],\n",
       "        [-12.3413, -10.1045,  -1.1518,  -9.8798,  11.7235,   3.7359,\n",
       "          -0.1992,   3.8470,  -7.8280,  -6.1312],\n",
       "        [-11.9141, -14.6547,  -0.0448,  -8.0741,   1.4700,  -2.4746,\n",
       "          -7.2589,  -5.0793, -10.7861,   3.3101],\n",
       "        [ -8.6852,  -5.2859,   0.8823,  -9.7360,   4.6070,   7.5912,\n",
       "         -12.4234,   3.2431,  -9.7633,  -5.5526],\n",
       "        [-20.1532, -17.4927,  -1.7398, -19.4197,   2.3274,  18.5780,\n",
       "         -12.0524,   5.7533, -25.3850,   1.6691],\n",
       "        [-10.9955,   5.5262,   0.4421, -13.7576,  -4.6748,   4.1319,\n",
       "         -11.1516,  -5.4774,  -7.1565,   0.2056],\n",
       "        [-13.3290,  -3.2159,   5.5142,  -2.3212,   4.3691,   6.4018,\n",
       "         -12.9348, -13.7034,  -9.3396,   4.1456],\n",
       "        [-13.8485, -14.0428,   0.9392,  -9.4128,   6.7500,   4.8341,\n",
       "          -4.6918,   1.5267, -12.7549,  -6.4924],\n",
       "        [-26.3651,  -8.6847, -12.3488,  -5.2906,   2.5292,   1.6130,\n",
       "         -10.1938,  12.6868, -10.2444, -14.3046],\n",
       "        [-14.5671,  -5.0876,   4.4669,  -7.0196,   9.0646,  -0.4711,\n",
       "          -5.8441,   1.3986, -19.6274,  -2.0130],\n",
       "        [-11.1077,  -5.1097,   0.7026, -15.4811,   5.9795,   4.9848,\n",
       "          -7.8301,   9.9335, -12.9684,  -3.2224],\n",
       "        [ -8.5213,  -7.8058,  -0.9407,  -8.7546,  12.6399,   3.1232,\n",
       "          -8.6821,   2.7031,  -7.7941,  -7.7928],\n",
       "        [-14.3441, -11.9612,   4.7156, -13.1663,   4.4234,   6.6932,\n",
       "          -2.2260,  -1.4637, -13.8811,  -1.4260],\n",
       "        [-18.0948, -15.7739,  -7.8600, -13.8527,   6.7329,  14.1636,\n",
       "          -7.0327,  -9.6582, -16.3700,  -5.3176],\n",
       "        [-11.7807,  -7.7687,   8.0218, -13.6926,   6.9990,   8.5851,\n",
       "          -7.6883,   4.9041, -10.3372,   1.3057],\n",
       "        [-22.6880,  -5.1931,   0.8622, -16.6700,  11.4591,   4.1963,\n",
       "         -14.0253,   6.2723, -10.7653,  -6.5354],\n",
       "        [-13.3158,  -3.6644,   0.8010,   3.2178,  12.2221,  15.0545,\n",
       "         -11.5512,  -3.8779,  -2.0647,   2.2816],\n",
       "        [-14.2293, -10.9152, -11.3374, -11.7566,   1.5127,  15.8726,\n",
       "           5.2392,   6.6868, -13.8491,   2.6642],\n",
       "        [-11.5320,   0.2105,   7.8309,  -4.2755,  -1.4163,   6.9006,\n",
       "          -5.5405,  -3.9138, -12.5027,  -4.3548],\n",
       "        [ -9.4851, -12.2166,  -2.3270,  -8.1289,   7.9203,   3.2310,\n",
       "           4.9374,   5.8782,  -5.5349,  -1.8096],\n",
       "        [ -5.5627, -13.4125,   3.2230,  -7.9737,   2.4120,   5.2343,\n",
       "          -5.2570,   4.0170, -10.5858, -10.4994],\n",
       "        [-18.6146,  -1.0026,  -6.3029, -11.9084,  16.5172,   7.3056,\n",
       "          -0.5101,   0.5128, -13.6239, -12.8537],\n",
       "        [-16.0091, -15.1799,  -1.3720, -19.0890,  -4.5771,   7.9796,\n",
       "          -7.7603,   5.4045, -11.9329,  -3.5370],\n",
       "        [-13.8635,  -8.7505,   3.2574, -16.1765,   2.4864,   9.4268,\n",
       "          -9.0142,   2.3629, -19.4786,  -1.1083],\n",
       "        [-12.7025,  -9.1447,   2.0584,  -4.9754,   3.3576,   7.3905,\n",
       "           2.6046,   3.3667, -12.7637,  -7.7815],\n",
       "        [ -9.2175, -11.1237,  -8.8704, -11.1120,   8.1449,  11.7621,\n",
       "         -11.2027,  -4.1743, -13.9092,  -3.7400],\n",
       "        [-15.2417,  -4.5716,   7.1687, -11.0535,   7.6139,   1.2393,\n",
       "          -5.9303,   3.9451,  -5.9847, -11.3339],\n",
       "        [-15.7593,   2.1734,  -0.2424, -12.7324,   7.5758,   2.8830,\n",
       "          -1.2181,   2.3416, -12.0615,  -8.3658],\n",
       "        [-14.6931,  -5.1067,  -6.9779, -18.4631,  11.6727,   5.6790,\n",
       "           2.2781,   8.0736, -14.6890, -11.0615],\n",
       "        [-10.3971,   3.8720,   7.0866,  -5.5592,   1.1342,   2.6029,\n",
       "          -2.7818,   0.9601,  -7.5947,   2.8583],\n",
       "        [ -9.0997,  -3.0107,  -4.1454,  -9.7313,   1.4893,  14.7748,\n",
       "           0.8532,  -7.9802, -15.8119,  -8.3576],\n",
       "        [-10.2224, -10.2000,  -1.4016,  -4.0274,  13.5815,   8.0217,\n",
       "          -9.9060,  -4.9797, -17.8301,  -5.6791],\n",
       "        [ -7.7078,  -4.0776,  -8.8896,  -7.4390,  15.1746,  12.5247,\n",
       "         -13.6393,   8.2536,  -6.5449, -11.2882],\n",
       "        [-18.0074,  -9.2193,   1.3367, -16.1934,   8.7444,  10.9048,\n",
       "         -11.4972,   6.3728,  -3.0222,  -8.8736],\n",
       "        [-17.7759,  13.3838,   1.3666,  -9.7097,  -0.1600,  -1.3015,\n",
       "          -1.4872,  -6.7276, -12.9531,   3.1488],\n",
       "        [-18.9587,  -2.7770,  11.3271,   3.1415,  14.0703,  13.5053,\n",
       "         -14.1297,  -8.0178,  -5.3535,   1.0748],\n",
       "        [-19.8033, -14.1994,  -9.4815,  -8.6714,   9.7357,   4.2416,\n",
       "          -0.7087,  11.6416, -10.5077,  -6.2891],\n",
       "        [-14.9160,  -5.9965,  -9.2816, -23.9307,   3.5045,  17.9615,\n",
       "          -6.3600,   5.6614, -15.3372,   2.1733],\n",
       "        [ -7.7133,  -7.0591,  11.9801,  -5.4151,   1.2757,   8.0983,\n",
       "          -1.0464,  -0.2254,  -6.5172,   2.7468]])"
      ]
     },
     "execution_count": 9,
     "metadata": {},
     "output_type": "execute_result"
    }
   ],
   "source": [
    "out"
   ]
  },
  {
   "cell_type": "code",
   "execution_count": 10,
   "metadata": {},
   "outputs": [
    {
     "data": {
      "text/plain": [
       "tensor([[ 1.9376e-06,  6.6805e-01,  4.4428e-04,  1.8743e-03,  2.6334e+01,\n",
       "          1.1280e+01,  1.1440e-08,  7.5987e+03,  2.2493e-06,  2.9293e+00],\n",
       "        [ 2.7960e-07,  3.4582e-03,  1.2531e-02,  1.4532e-05,  4.0327e+04,\n",
       "          9.4015e+02,  4.6980e-04,  2.0671e+06,  2.3311e-07,  1.4487e-02],\n",
       "        [ 1.3071e-05,  2.7201e-03,  2.9182e-02,  2.2127e-01,  4.3585e+06,\n",
       "          1.0992e+02,  4.5032e-02,  3.9394e+01,  8.9701e-07,  1.2893e+01],\n",
       "        [ 3.4055e-09,  2.4920e-01,  2.5200e-01,  1.6189e-04,  2.0721e+02,\n",
       "          5.6482e-01,  1.0149e+02,  2.2251e-04,  3.3687e-06,  3.1655e+02],\n",
       "        [ 3.4153e-07,  6.4490e-03,  8.9925e-04,  1.1555e-06,  2.4741e+04,\n",
       "          1.6354e+04,  1.0279e-02,  9.5589e+00,  4.7010e-07,  3.8052e+04],\n",
       "        [ 3.7137e-09,  9.4846e-05,  1.3297e+01,  1.4701e-06,  9.6936e+02,\n",
       "          3.3798e+03,  1.9290e-01,  1.2391e-02,  2.1578e-04,  7.5509e-02],\n",
       "        [ 8.9485e-07,  8.5577e-05,  1.1560e+02,  4.7488e-08,  2.5327e+00,\n",
       "          1.3646e+02,  1.4148e-02,  2.7445e-01,  9.9863e-05,  6.6028e-01],\n",
       "        [ 2.2433e-06,  1.3541e-04,  3.6272e+00,  1.1122e-05,  1.3888e+04,\n",
       "          2.0948e+02,  4.6149e-06,  1.7578e+00,  6.3462e-05,  2.8242e-03],\n",
       "        [ 1.1058e-09,  1.3699e-04,  4.6919e-03,  2.8846e-08,  1.2974e+04,\n",
       "          2.4336e+01,  4.3457e-05,  9.5484e+00,  1.2578e-07,  2.2561e-03],\n",
       "        [ 7.6888e-06,  4.9443e-05,  4.5441e-01,  2.4780e-06,  7.1570e+02,\n",
       "          1.1422e+02,  1.9479e-04,  6.4536e+01,  1.4543e-04,  2.9481e-03],\n",
       "        [ 1.2836e-03,  1.6260e-01,  5.8340e+00,  2.6029e-05,  3.1567e+03,\n",
       "          1.1257e+02,  1.0455e-04,  3.2699e-01,  1.5953e-05,  1.0612e-02],\n",
       "        [ 4.3421e-07,  1.3265e-06,  4.0372e+00,  1.3404e+00,  2.2387e+02,\n",
       "          2.6569e+01,  3.5169e-02,  1.5181e+00,  7.4862e-07,  1.0514e-02],\n",
       "        [ 2.6582e-05,  6.2502e-02,  2.6124e+00,  2.3150e-03,  5.9066e+02,\n",
       "          1.6297e+03,  2.6161e-01,  1.4937e+01,  4.6564e-06,  7.0392e-04],\n",
       "        [ 5.0083e-06,  3.4793e-06,  1.3167e+00,  2.7155e-04,  1.6997e+02,\n",
       "          6.4514e+00,  2.1340e-02,  1.3644e+01,  2.4224e-05,  4.4378e-04],\n",
       "        [ 1.2959e-06,  6.3000e-07,  2.7993e-05,  1.0018e-06,  1.7797e+02,\n",
       "          1.4131e+03,  5.9539e-01,  2.3260e+02,  3.9998e-02,  1.4722e-01],\n",
       "        [ 3.6338e-06,  9.2669e-07,  5.5735e+02,  7.3081e-04,  2.7090e+00,\n",
       "          6.0503e+01,  2.9211e-05,  3.3310e+02,  4.8476e-06,  1.0597e-03],\n",
       "        [ 1.7559e-10,  2.6324e-03,  1.6929e+01,  5.5164e-06,  4.4357e+01,\n",
       "          1.6750e+02,  1.6712e-05,  7.6756e+00,  9.8511e-04,  6.8951e+01],\n",
       "        [ 1.3569e-03,  1.2545e-04,  5.9190e+02,  8.6987e-05,  2.2462e+03,\n",
       "          2.0573e+06,  5.0600e+00,  1.1853e-03,  4.6683e-06,  1.3849e-03],\n",
       "        [ 2.0973e-05,  1.8164e-03,  2.4783e-01,  4.5817e-05,  7.0364e+00,\n",
       "          1.3254e+01,  7.0700e-06,  3.7849e+01,  1.0510e+00,  6.1096e-02],\n",
       "        [ 1.2671e-06,  2.1184e+00,  2.2729e+00,  1.0789e+00,  5.0695e+04,\n",
       "          9.3304e+01,  8.5789e+01,  8.2102e-01,  3.5790e-09,  3.5624e-01],\n",
       "        [ 1.4173e-01,  1.0377e+02,  4.0942e+01,  1.2805e-07,  2.3127e+01,\n",
       "          1.0508e+06,  2.4204e-02,  4.6868e-03,  2.1841e-07,  8.2264e+00],\n",
       "        [ 3.2390e-07,  5.2152e-04,  1.6554e+00,  1.3561e-03,  1.1317e+03,\n",
       "          7.6721e+06,  1.2456e-01,  1.0019e+01,  2.9381e-06,  4.8646e-04],\n",
       "        [ 2.6054e-08,  1.1121e-06,  3.8520e-01,  5.8763e-10,  2.3701e+00,\n",
       "          2.3422e+05,  3.8930e-05,  6.7839e+00,  8.8218e-06,  2.9991e+01],\n",
       "        [ 2.5591e-10,  5.0899e-07,  1.6397e+01,  2.5431e-02,  3.0615e+05,\n",
       "          4.7756e+01,  1.4293e-06,  4.9589e+01,  6.4632e-03,  1.2101e-02],\n",
       "        [ 3.0237e-07,  4.3916e-04,  1.6168e-02,  3.8361e-04,  4.1816e+02,\n",
       "          5.6172e+03,  6.7780e-04,  1.4423e+00,  1.4645e-07,  1.9731e+01],\n",
       "        [ 3.2055e-05,  6.6559e-05,  6.7681e-02,  2.1342e-06,  6.7718e-02,\n",
       "          2.2910e+08,  1.0428e+00,  1.6941e-01,  7.6859e-08,  2.7012e-01],\n",
       "        [ 4.3677e-06,  4.0895e-05,  3.1608e-01,  5.1201e-05,  1.2344e+05,\n",
       "          4.1924e+01,  8.1936e-01,  4.6850e+01,  3.9841e-04,  2.1739e-03],\n",
       "        [ 6.6952e-06,  4.3206e-07,  9.5615e-01,  3.1152e-04,  4.3490e+00,\n",
       "          8.4198e-02,  7.0386e-04,  6.2245e-03,  2.0684e-05,  2.7388e+01],\n",
       "        [ 1.6907e-04,  5.0622e-03,  2.4164e+00,  5.9118e-05,  1.0018e+02,\n",
       "          1.9808e+03,  4.0232e-06,  2.5613e+01,  5.7525e-05,  3.8773e-03],\n",
       "        [ 1.7684e-09,  2.5294e-08,  1.7555e-01,  3.6823e-09,  1.0252e+01,\n",
       "          1.1704e+08,  5.8306e-06,  3.1524e+02,  9.4502e-12,  5.3072e+00],\n",
       "        [ 1.6777e-05,  2.5119e+02,  1.5560e+00,  1.0597e-06,  9.3271e-03,\n",
       "          6.2297e+01,  1.4352e-05,  4.1803e-03,  7.7975e-04,  1.2283e+00],\n",
       "        [ 1.6266e-06,  4.0118e-02,  2.4820e+02,  9.8161e-02,  7.8969e+01,\n",
       "          6.0291e+02,  2.4127e-06,  1.1187e-06,  8.7872e-05,  6.3153e+01],\n",
       "        [ 9.6750e-07,  7.9667e-07,  2.5580e+00,  8.1670e-05,  8.5403e+02,\n",
       "          1.2572e+02,  9.1702e-03,  4.6029e+00,  2.8880e-06,  1.5149e-03],\n",
       "        [ 3.5463e-12,  1.6915e-04,  4.3347e-06,  5.0387e-03,  1.2543e+01,\n",
       "          5.0177e+00,  3.7403e-05,  3.2345e+05,  3.5556e-05,  6.1321e-07],\n",
       "        [ 4.7164e-07,  6.1729e-03,  8.7083e+01,  8.9415e-04,  8.6435e+03,\n",
       "          6.2430e-01,  2.8969e-03,  4.0496e+00,  2.9917e-09,  1.3359e-01],\n",
       "        [ 1.4996e-05,  6.0378e-03,  2.0191e+00,  1.8909e-07,  3.9523e+02,\n",
       "          1.4617e+02,  3.9760e-04,  2.0609e+04,  2.3330e-06,  3.9858e-02],\n",
       "        [ 1.9918e-04,  4.0739e-04,  3.9034e-01,  1.5773e-04,  3.0863e+05,\n",
       "          2.2719e+01,  1.6959e-04,  1.4926e+01,  4.1217e-04,  4.1269e-04],\n",
       "        [ 5.8942e-07,  6.3876e-06,  1.1167e+02,  1.9140e-06,  8.3380e+01,\n",
       "          8.0691e+02,  1.0796e-01,  2.3139e-01,  9.3649e-07,  2.4026e-01],\n",
       "        [ 1.3853e-08,  1.4108e-07,  3.8589e-04,  9.6346e-07,  8.3962e+02,\n",
       "          1.4164e+06,  8.8256e-04,  6.3902e-05,  7.7731e-08,  4.9047e-03],\n",
       "        [ 7.6510e-06,  4.2274e-04,  3.0468e+03,  1.1307e-06,  1.0956e+03,\n",
       "          5.3512e+03,  4.5813e-04,  1.3484e+02,  3.2404e-05,  3.6902e+00],\n",
       "        [ 1.4020e-10,  5.5548e-03,  2.3683e+00,  5.7586e-08,  9.4756e+04,\n",
       "          6.6441e+01,  8.1077e-07,  5.2969e+02,  2.1120e-05,  1.4512e-03],\n",
       "        [ 1.6482e-06,  2.5620e-02,  2.2277e+00,  2.4973e+01,  2.0322e+05,\n",
       "          3.4522e+06,  9.6243e-06,  2.0695e-02,  1.2686e-01,  9.7919e+00],\n",
       "        [ 6.6116e-07,  1.8181e-05,  1.1918e-05,  7.8372e-06,  4.5387e+00,\n",
       "          7.8233e+06,  1.8852e+02,  8.0173e+02,  9.6701e-07,  1.4357e+01],\n",
       "        [ 9.8113e-06,  1.2344e+00,  2.5172e+03,  1.3905e-02,  2.4261e-01,\n",
       "          9.9291e+02,  3.9247e-03,  1.9965e-02,  3.7168e-06,  1.2845e-02],\n",
       "        [ 7.5975e-05,  4.9478e-06,  9.7591e-02,  2.9488e-04,  2.7525e+03,\n",
       "          2.5304e+01,  1.3941e+02,  3.5718e+02,  3.9467e-03,  1.6371e-01],\n",
       "        [ 3.8386e-03,  1.4964e-06,  2.5103e+01,  3.4439e-04,  1.1156e+01,\n",
       "          1.8760e+02,  5.2111e-03,  5.5532e+01,  2.5271e-05,  2.7552e-05],\n",
       "        [ 8.2376e-09,  3.6692e-01,  1.8310e-03,  6.7335e-06,  1.4905e+07,\n",
       "          1.4887e+03,  6.0046e-01,  1.6700e+00,  1.2112e-06,  2.6164e-06],\n",
       "        [ 1.1152e-07,  2.5555e-07,  2.5361e-01,  5.1257e-09,  1.0285e-02,\n",
       "          2.9207e+03,  4.2633e-04,  2.2239e+02,  6.5707e-06,  2.9100e-02],\n",
       "        [ 9.5316e-07,  1.5838e-04,  2.5982e+01,  9.4331e-08,  1.2018e+01,\n",
       "          1.2417e+04,  1.2166e-04,  1.0622e+01,  3.4719e-09,  3.3013e-01],\n",
       "        [ 3.0435e-06,  1.0678e-04,  7.8337e+00,  6.9061e-03,  2.8719e+01,\n",
       "          1.6204e+03,  1.3526e+01,  2.8983e+01,  2.8628e-06,  4.1739e-04],\n",
       "        [ 9.9282e-05,  1.4759e-05,  1.4048e-04,  1.4931e-05,  3.4458e+03,\n",
       "          1.2829e+05,  1.3637e-05,  1.5387e-02,  9.1055e-07,  2.3755e-02],\n",
       "        [ 2.4022e-07,  1.0341e-02,  1.2982e+03,  1.5831e-05,  2.0262e+03,\n",
       "          3.4533e+00,  2.6577e-03,  5.1680e+01,  2.5170e-03,  1.1960e-05],\n",
       "        [ 1.4316e-07,  8.7882e+00,  7.8477e-01,  2.9540e-06,  1.9505e+03,\n",
       "          1.7868e+01,  2.9579e-01,  1.0398e+01,  5.7777e-06,  2.3270e-04],\n",
       "        [ 4.1579e-07,  6.0560e-03,  9.3230e-04,  9.5849e-09,  1.1733e+05,\n",
       "          2.9265e+02,  9.7584e+00,  3.2088e+03,  4.1751e-07,  1.5706e-05],\n",
       "        [ 3.0521e-05,  4.8037e+01,  1.1959e+03,  3.8518e-03,  3.1088e+00,\n",
       "          1.3503e+01,  6.1926e-02,  2.6118e+00,  5.0312e-04,  1.7431e+01],\n",
       "        [ 1.1170e-04,  4.9258e-02,  1.5836e-02,  5.9392e-05,  4.4342e+00,\n",
       "          2.6099e+06,  2.3472e+00,  3.4218e-04,  1.3582e-07,  2.3462e-04],\n",
       "        [ 3.6348e-05,  3.7169e-05,  2.4621e-01,  1.7821e-02,  7.9135e+05,\n",
       "          3.0462e+03,  4.9875e-05,  6.8758e-03,  1.8051e-08,  3.4168e-03],\n",
       "        [ 4.4929e-04,  1.6949e-02,  1.3782e-04,  5.8785e-04,  3.8925e+06,\n",
       "          2.7505e+05,  1.1927e-06,  3.8415e+03,  1.4375e-03,  1.2520e-05],\n",
       "        [ 1.5118e-08,  9.9107e-05,  3.8065e+00,  9.2748e-08,  6.2753e+03,\n",
       "          5.4436e+04,  1.0158e-05,  5.8570e+02,  4.8692e-02,  1.4004e-04],\n",
       "        [ 1.9055e-08,  6.4938e+05,  3.9222e+00,  6.0695e-05,  8.5213e-01,\n",
       "          2.7213e-01,  2.2601e-01,  1.1974e-03,  2.3688e-06,  2.3309e+01],\n",
       "        [ 5.8391e-09,  6.2225e-02,  8.3044e+04,  2.3139e+01,  1.2903e+06,\n",
       "          7.3330e+05,  7.3035e-07,  3.2955e-04,  4.7316e-03,  2.9295e+00],\n",
       "        [ 2.5093e-09,  6.8122e-07,  7.6247e-05,  1.7141e-04,  1.6911e+04,\n",
       "          6.9519e+01,  4.9226e-01,  1.1373e+05,  2.7324e-05,  1.8564e-03],\n",
       "        [ 3.3270e-07,  2.4873e-03,  9.3122e-05,  4.0461e-11,  3.3266e+01,\n",
       "          6.3179e+07,  1.7294e-03,  2.8755e+02,  2.1833e-07,  8.7873e+00],\n",
       "        [ 4.4682e-04,  8.5958e-04,  1.5954e+05,  4.4491e-03,  3.5813e+00,\n",
       "          3.2888e+03,  3.5120e-01,  7.9819e-01,  1.4777e-03,  1.5592e+01]])"
      ]
     },
     "execution_count": 10,
     "metadata": {},
     "output_type": "execute_result"
    }
   ],
   "source": [
    "torch.exp(out)"
   ]
  },
  {
   "cell_type": "code",
   "execution_count": 11,
   "metadata": {},
   "outputs": [
    {
     "data": {
      "text/plain": [
       "tensor([[ 2.5361e-10,  8.7442e-05,  5.8153e-08,  2.4533e-07,  3.4468e-03,\n",
       "          1.4765e-03,  1.4974e-12,  9.9461e-01,  2.9441e-10,  3.8342e-04],\n",
       "        [ 1.3261e-13,  1.6402e-09,  5.9432e-09,  6.8924e-12,  1.9127e-02,\n",
       "          4.4591e-04,  2.2283e-10,  9.8043e-01,  1.1056e-13,  6.8713e-09],\n",
       "        [ 2.9990e-12,  6.2407e-10,  6.6952e-09,  5.0766e-08,  9.9996e-01,\n",
       "          2.5220e-05,  1.0332e-08,  9.0380e-06,  2.0580e-13,  2.9580e-06],\n",
       "        [ 5.4373e-12,  3.9788e-04,  4.0236e-04,  2.5848e-07,  3.3084e-01,\n",
       "          9.0181e-04,  1.6204e-01,  3.5527e-07,  5.3786e-09,  5.0541e-01],\n",
       "        [ 4.3145e-12,  8.1471e-08,  1.1360e-08,  1.4598e-11,  3.1256e-01,\n",
       "          2.0660e-01,  1.2986e-07,  1.2076e-04,  5.9389e-12,  4.8072e-01],\n",
       "        [ 8.5123e-13,  2.1740e-08,  3.0479e-03,  3.3696e-10,  2.2219e-01,\n",
       "          7.7470e-01,  4.4215e-05,  2.8403e-06,  4.9460e-08,  1.7308e-05],\n",
       "        [ 3.5017e-09,  3.3488e-07,  4.5238e-01,  1.8583e-10,  9.9110e-03,\n",
       "          5.3400e-01,  5.5365e-05,  1.0740e-03,  3.9078e-07,  2.5838e-03],\n",
       "        [ 1.5906e-10,  9.6016e-09,  2.5719e-04,  7.8860e-10,  9.8476e-01,\n",
       "          1.4854e-02,  3.2723e-10,  1.2464e-04,  4.4999e-09,  2.0025e-07],\n",
       "        [ 8.5010e-14,  1.0531e-08,  3.6069e-07,  2.2175e-12,  9.9739e-01,\n",
       "          1.8708e-03,  3.3407e-09,  7.3403e-04,  9.6695e-12,  1.7344e-07],\n",
       "        [ 8.5917e-09,  5.5248e-08,  5.0776e-04,  2.7690e-09,  7.9974e-01,\n",
       "          1.2763e-01,  2.1766e-07,  7.2114e-02,  1.6251e-07,  3.2943e-06],\n",
       "        [ 3.9186e-07,  4.9640e-05,  1.7810e-03,  7.9464e-09,  9.6370e-01,\n",
       "          3.4365e-02,  3.1918e-08,  9.9825e-05,  4.8704e-09,  3.2398e-06],\n",
       "        [ 1.6870e-09,  5.1538e-09,  1.5685e-02,  5.2078e-03,  8.6980e-01,\n",
       "          1.0323e-01,  1.3664e-04,  5.8980e-03,  2.9086e-09,  4.0851e-05],\n",
       "        [ 1.1876e-08,  2.7924e-05,  1.1671e-03,  1.0343e-06,  2.6389e-01,\n",
       "          7.2812e-01,  1.1688e-04,  6.6734e-03,  2.0804e-09,  3.1450e-07],\n",
       "        [ 2.6166e-08,  1.8178e-08,  6.8789e-03,  1.4187e-06,  8.8802e-01,\n",
       "          3.3705e-02,  1.1149e-04,  7.1285e-02,  1.2656e-07,  2.3185e-06],\n",
       "        [ 7.1028e-10,  3.4531e-10,  1.5343e-08,  5.4912e-10,  9.7547e-02,\n",
       "          7.7453e-01,  3.2634e-04,  1.2749e-01,  2.1923e-05,  8.0692e-05],\n",
       "        [ 3.8104e-09,  9.7172e-10,  5.8443e-01,  7.6632e-07,  2.8406e-03,\n",
       "          6.3443e-02,  3.0630e-08,  3.4928e-01,  5.0832e-09,  1.1112e-06],\n",
       "        [ 5.7492e-13,  8.6191e-06,  5.5431e-02,  1.8062e-08,  1.4524e-01,\n",
       "          5.4843e-01,  5.4720e-08,  2.5132e-02,  3.2255e-06,  2.2576e-01],\n",
       "        [ 6.5864e-10,  6.0895e-11,  2.8731e-04,  4.2224e-11,  1.0903e-03,\n",
       "          9.9862e-01,  2.4561e-06,  5.7538e-10,  2.2660e-12,  6.7223e-10],\n",
       "        [ 3.5248e-07,  3.0527e-05,  4.1650e-03,  7.7001e-07,  1.1825e-01,\n",
       "          2.2275e-01,  1.1882e-07,  6.3610e-01,  1.7663e-02,  1.0268e-03],\n",
       "        [ 2.4902e-11,  4.1634e-05,  4.4670e-05,  2.1204e-05,  9.9635e-01,\n",
       "          1.8338e-03,  1.6861e-03,  1.6136e-05,  7.0341e-14,  7.0014e-06],\n",
       "        [ 1.3486e-07,  9.8738e-05,  3.8957e-05,  1.2184e-13,  2.2006e-05,\n",
       "          9.9983e-01,  2.3031e-08,  4.4596e-09,  2.0783e-13,  7.8276e-06],\n",
       "        [ 4.2212e-14,  6.7967e-11,  2.1574e-07,  1.7674e-10,  1.4749e-04,\n",
       "          9.9985e-01,  1.6233e-08,  1.3057e-06,  3.8290e-13,  6.3398e-11],\n",
       "        [ 1.1122e-13,  4.7473e-12,  1.6443e-06,  2.5084e-15,  1.0117e-05,\n",
       "          9.9983e-01,  1.6618e-10,  2.8959e-05,  3.7658e-11,  1.2802e-04],\n",
       "        [ 8.3556e-16,  1.6619e-12,  5.3538e-05,  8.3035e-08,  9.9963e-01,\n",
       "          1.5593e-04,  4.6669e-12,  1.6191e-04,  2.1103e-08,  3.9512e-08],\n",
       "        [ 4.9925e-11,  7.2511e-08,  2.6695e-06,  6.3338e-08,  6.9043e-02,\n",
       "          9.2746e-01,  1.1191e-07,  2.3814e-04,  2.4181e-11,  3.2578e-03],\n",
       "        [ 1.3992e-13,  2.9052e-13,  2.9542e-10,  9.3153e-15,  2.9558e-10,\n",
       "          1.0000e+00,  4.5518e-09,  7.3946e-10,  3.3548e-16,  1.1791e-09],\n",
       "        [ 3.5358e-11,  3.3106e-10,  2.5588e-06,  4.1449e-10,  9.9927e-01,\n",
       "          3.3939e-04,  6.6330e-06,  3.7927e-04,  3.2253e-09,  1.7599e-08],\n",
       "        [ 2.0422e-07,  1.3179e-08,  2.9165e-02,  9.5020e-06,  1.3266e-01,\n",
       "          2.5682e-03,  2.1469e-05,  1.8986e-04,  6.3092e-07,  8.3539e-01],\n",
       "        [ 8.0166e-08,  2.4003e-06,  1.1458e-03,  2.8032e-08,  4.7503e-02,\n",
       "          9.3920e-01,  1.9076e-09,  1.2145e-02,  2.7276e-08,  1.8385e-06],\n",
       "        [ 1.5109e-17,  2.1611e-16,  1.4999e-09,  3.1461e-17,  8.7590e-08,\n",
       "          1.0000e+00,  4.9817e-14,  2.6934e-06,  8.0743e-20,  4.5345e-08],\n",
       "        [ 5.3044e-08,  7.9419e-01,  4.9197e-03,  3.3503e-09,  2.9489e-05,\n",
       "          1.9697e-01,  4.5376e-08,  1.3217e-05,  2.4653e-06,  3.8835e-03],\n",
       "        [ 1.6374e-09,  4.0386e-05,  2.4985e-01,  9.8815e-05,  7.9496e-02,\n",
       "          6.0694e-01,  2.4288e-09,  1.1261e-09,  8.8458e-08,  6.3574e-02],\n",
       "        [ 9.8032e-10,  8.0723e-10,  2.5919e-03,  8.2752e-08,  8.6535e-01,\n",
       "          1.2739e-01,  9.2917e-06,  4.6639e-03,  2.9263e-09,  1.5350e-06],\n",
       "        [ 1.0963e-17,  5.2293e-10,  1.3401e-11,  1.5577e-08,  3.8776e-05,\n",
       "          1.5512e-05,  1.1563e-10,  9.9995e-01,  1.0992e-10,  1.8957e-12],\n",
       "        [ 5.3992e-11,  7.0666e-07,  9.9690e-03,  1.0236e-07,  9.8948e-01,\n",
       "          7.1468e-05,  3.3163e-07,  4.6358e-04,  3.4248e-13,  1.5293e-05],\n",
       "        [ 7.0893e-10,  2.8544e-07,  9.5451e-05,  8.9390e-12,  1.8685e-02,\n",
       "          6.9101e-03,  1.8797e-08,  9.7431e-01,  1.1029e-10,  1.8843e-06],\n",
       "        [ 6.4528e-10,  1.3198e-09,  1.2646e-06,  5.1101e-10,  9.9988e-01,\n",
       "          7.3604e-05,  5.4941e-10,  4.8356e-05,  1.3353e-09,  1.3370e-09],\n",
       "        [ 5.8793e-10,  6.3714e-09,  1.1139e-01,  1.9092e-09,  8.3168e-02,\n",
       "          8.0486e-01,  1.0769e-04,  2.3080e-04,  9.3412e-10,  2.3965e-04],\n",
       "        [ 9.7743e-15,  9.9548e-14,  2.7228e-10,  6.7981e-13,  5.9243e-04,\n",
       "          9.9941e-01,  6.2273e-10,  4.5089e-11,  5.4847e-14,  3.4607e-09],\n",
       "        [ 7.9432e-10,  4.3889e-08,  3.1632e-01,  1.1739e-10,  1.1374e-01,\n",
       "          5.5556e-01,  4.7563e-08,  1.3999e-02,  3.3641e-09,  3.8312e-04],\n",
       "        [ 1.4703e-15,  5.8255e-08,  2.4836e-05,  6.0392e-13,  9.9372e-01,\n",
       "          6.9679e-04,  8.5027e-12,  5.5550e-03,  2.2149e-10,  1.5219e-08],\n",
       "        [ 4.5089e-13,  7.0087e-09,  6.0941e-07,  6.8317e-06,  5.5595e-02,\n",
       "          9.4439e-01,  2.6329e-12,  5.6614e-09,  3.4705e-08,  2.6787e-06],\n",
       "        [ 8.4500e-14,  2.3236e-12,  1.5232e-12,  1.0016e-12,  5.8008e-07,\n",
       "          9.9987e-01,  2.4094e-05,  1.0247e-04,  1.2359e-13,  1.8349e-06],\n",
       "        [ 2.7939e-09,  3.5150e-04,  7.1682e-01,  3.9598e-06,  6.9087e-05,\n",
       "          2.8275e-01,  1.1176e-06,  5.6854e-06,  1.0584e-09,  3.6579e-06],\n",
       "        [ 2.3201e-08,  1.5109e-09,  2.9802e-05,  9.0049e-08,  8.4055e-01,\n",
       "          7.7271e-03,  4.2572e-02,  1.0907e-01,  1.2052e-06,  4.9994e-05],\n",
       "        [ 1.3739e-05,  5.3557e-09,  8.9846e-02,  1.2326e-06,  3.9931e-02,\n",
       "          6.7143e-01,  1.8651e-05,  1.9876e-01,  9.0450e-08,  9.8613e-08],\n",
       "        [ 5.5262e-16,  2.4615e-08,  1.2284e-10,  4.5172e-13,  9.9990e-01,\n",
       "          9.9868e-05,  4.0282e-08,  1.1203e-07,  8.1255e-14,  1.7552e-13],\n",
       "        [ 3.5477e-11,  8.1296e-11,  8.0680e-05,  1.6306e-12,  3.2719e-06,\n",
       "          9.2916e-01,  1.3563e-07,  7.0749e-02,  2.0903e-09,  9.2576e-06],\n",
       "        [ 7.6460e-11,  1.2705e-08,  2.0842e-03,  7.5670e-12,  9.6402e-04,\n",
       "          9.9607e-01,  9.7597e-09,  8.5205e-04,  2.7851e-13,  2.6483e-05],\n",
       "        [ 1.7908e-09,  6.2832e-08,  4.6094e-03,  4.0635e-06,  1.6899e-02,\n",
       "          9.5348e-01,  7.9585e-03,  1.7054e-02,  1.6845e-09,  2.4559e-07],\n",
       "        [ 7.5363e-10,  1.1203e-10,  1.0664e-09,  1.1334e-10,  2.6156e-02,\n",
       "          9.7384e-01,  1.0352e-10,  1.1680e-07,  6.9118e-12,  1.8032e-07],\n",
       "        [ 7.1082e-11,  3.0599e-06,  3.8413e-01,  4.6845e-09,  5.9956e-01,\n",
       "          1.0218e-03,  7.8641e-07,  1.5292e-02,  7.4478e-07,  3.5390e-09],\n",
       "        [ 7.1987e-11,  4.4192e-03,  3.9462e-04,  1.4854e-09,  9.8082e-01,\n",
       "          8.9848e-03,  1.4874e-04,  5.2286e-03,  2.9053e-09,  1.1701e-07],\n",
       "        [ 3.4409e-12,  5.0118e-08,  7.7153e-09,  7.9321e-14,  9.7094e-01,\n",
       "          2.4219e-03,  8.0757e-05,  2.6555e-02,  3.4552e-12,  1.2998e-10],\n",
       "        [ 2.3833e-08,  3.7511e-02,  9.3381e-01,  3.0078e-06,  2.4276e-03,\n",
       "          1.0544e-02,  4.8356e-05,  2.0395e-03,  3.9288e-07,  1.3611e-02],\n",
       "        [ 4.2799e-11,  1.8874e-08,  6.0679e-09,  2.2757e-11,  1.6990e-06,\n",
       "          1.0000e+00,  8.9936e-07,  1.3111e-10,  5.2043e-14,  8.9896e-11],\n",
       "        [ 4.5756e-11,  4.6788e-11,  3.0994e-07,  2.2434e-08,  9.9617e-01,\n",
       "          3.8347e-03,  6.2784e-11,  8.6554e-09,  2.2723e-14,  4.3011e-09],\n",
       "        [ 1.0771e-10,  4.0631e-09,  3.3039e-11,  1.4092e-10,  9.3314e-01,\n",
       "          6.5937e-02,  2.8592e-13,  9.2092e-04,  3.4461e-10,  3.0013e-12],\n",
       "        [ 2.4663e-13,  1.6167e-09,  6.2096e-05,  1.5130e-12,  1.0237e-01,\n",
       "          8.8801e-01,  1.6571e-10,  9.5546e-03,  7.9431e-07,  2.2845e-09],\n",
       "        [ 2.9342e-14,  9.9996e-01,  6.0395e-06,  9.3461e-11,  1.3122e-06,\n",
       "          4.1904e-07,  3.4803e-07,  1.8438e-09,  3.6476e-12,  3.5892e-05],\n",
       "        [ 2.7718e-15,  2.9538e-08,  3.9420e-02,  1.0984e-05,  6.1247e-01,\n",
       "          3.4809e-01,  3.4669e-13,  1.5643e-10,  2.2461e-09,  1.3906e-06],\n",
       "        [ 1.9197e-14,  5.2116e-12,  5.8333e-10,  1.3114e-09,  1.2938e-01,\n",
       "          5.3185e-04,  3.7660e-06,  8.7009e-01,  2.0904e-10,  1.4202e-08],\n",
       "        [ 5.2659e-15,  3.9369e-11,  1.4739e-12,  6.4040e-19,  5.2652e-07,\n",
       "          9.9999e-01,  2.7373e-11,  4.5513e-06,  3.4558e-15,  1.3908e-07],\n",
       "        [ 2.7438e-09,  5.2784e-09,  9.7968e-01,  2.7320e-08,  2.1991e-05,\n",
       "          2.0195e-02,  2.1566e-06,  4.9014e-06,  9.0742e-09,  9.5746e-05]])"
      ]
     },
     "execution_count": 11,
     "metadata": {},
     "output_type": "execute_result"
    }
   ],
   "source": [
    "torch.exp(out) / torch.sum(torch.exp(out), dim=1).view(-1,1)"
   ]
  },
  {
   "cell_type": "code",
   "execution_count": 12,
   "metadata": {},
   "outputs": [
    {
     "name": "stdout",
     "output_type": "stream",
     "text": [
      "torch.Size([64, 10])\n",
      "tensor([ 1.0000,  1.0000,  1.0000,  1.0000,  1.0000,  1.0000,  1.0000,\n",
      "         1.0000,  1.0000,  1.0000,  1.0000,  1.0000,  1.0000,  1.0000,\n",
      "         1.0000,  1.0000,  1.0000,  1.0000,  1.0000,  1.0000,  1.0000,\n",
      "         1.0000,  1.0000,  1.0000,  1.0000,  1.0000,  1.0000,  1.0000,\n",
      "         1.0000,  1.0000,  1.0000,  1.0000,  1.0000,  1.0000,  1.0000,\n",
      "         1.0000,  1.0000,  1.0000,  1.0000,  1.0000,  1.0000,  1.0000,\n",
      "         1.0000,  1.0000,  1.0000,  1.0000,  1.0000,  1.0000,  1.0000,\n",
      "         1.0000,  1.0000,  1.0000,  1.0000,  1.0000,  1.0000,  1.0000,\n",
      "         1.0000,  1.0000,  1.0000,  1.0000,  1.0000,  1.0000,  1.0000,\n",
      "         1.0000])\n"
     ]
    }
   ],
   "source": [
    "def softmax(x):\n",
    "    ## TODO: Implement the softmax function here\n",
    "    return torch.exp(x) / torch.sum(torch.exp(x), dim=1).view(-1,1)\n",
    "\n",
    "# Here, out should be the output of the network in the previous excercise with shape (64,10)\n",
    "probabilities = softmax(out)\n",
    "\n",
    "# Does it have the right shape? Should be (64, 10)\n",
    "print(probabilities.shape)\n",
    "# Does it sum to 1?\n",
    "print(probabilities.sum(dim=1))"
   ]
  },
  {
   "cell_type": "markdown",
   "metadata": {},
   "source": [
    "## Building networks with PyTorch\n",
    "\n",
    "PyTorch provides a module `nn` that makes building networks much simpler. Here I'll show you how to build the same one as above with 784 inputs, 256 hidden units, 10 output units and a softmax output."
   ]
  },
  {
   "cell_type": "code",
   "execution_count": 13,
   "metadata": {},
   "outputs": [],
   "source": [
    "from torch import nn"
   ]
  },
  {
   "cell_type": "code",
   "execution_count": 14,
   "metadata": {},
   "outputs": [],
   "source": [
    "class Network(nn.Module):\n",
    "    def __init__(self):\n",
    "        super().__init__()\n",
    "        \n",
    "        # Inputs to hidden layer linear transformation\n",
    "        self.hidden = nn.Linear(784, 256)\n",
    "        # Output layer, 10 units - one for each digit\n",
    "        self.output = nn.Linear(256, 10)\n",
    "        \n",
    "        # Define sigmoid activation and softmax output \n",
    "        self.sigmoid = nn.Sigmoid()\n",
    "        self.softmax = nn.Softmax(dim=1)\n",
    "        \n",
    "    def forward(self, x):\n",
    "        # Pass the input tensor through each of our operations\n",
    "        x = self.hidden(x)\n",
    "        x = self.sigmoid(x)\n",
    "        x = self.output(x)\n",
    "        x = self.softmax(x)\n",
    "        \n",
    "        return x"
   ]
  },
  {
   "cell_type": "markdown",
   "metadata": {},
   "source": [
    "Let's go through this bit by bit.\n",
    "\n",
    "```python\n",
    "class Network(nn.Module):\n",
    "```\n",
    "\n",
    "Here we're inheriting from `nn.Module`. Combined with `super().__init__()` this creates a class that tracks the architecture and provides a lot of useful methods and attributes. It is mandatory to inherit from `nn.Module` when you're creating a class for your network. The name of the class itself can be anything.\n",
    "\n",
    "```python\n",
    "self.hidden = nn.Linear(784, 256)\n",
    "```\n",
    "\n",
    "This line creates a module for a linear transformation, $x\\mathbf{W} + b$, with 784 inputs and 256 outputs and assigns it to `self.hidden`. The module automatically creates the weight and bias tensors which we'll use in the `forward` method. You can access the weight and bias tensors once the network (`net`) is created with `net.hidden.weight` and `net.hidden.bias`.\n",
    "\n",
    "```python\n",
    "self.output = nn.Linear(256, 10)\n",
    "```\n",
    "\n",
    "Similarly, this creates another linear transformation with 256 inputs and 10 outputs.\n",
    "\n",
    "```python\n",
    "self.sigmoid = nn.Sigmoid()\n",
    "self.softmax = nn.Softmax(dim=1)\n",
    "```\n",
    "\n",
    "Here I defined operations for the sigmoid activation and softmax output. Setting `dim=1` in `nn.Softmax(dim=1)` calculates softmax across the columns.\n",
    "\n",
    "```python\n",
    "def forward(self, x):\n",
    "```\n",
    "\n",
    "PyTorch networks created with `nn.Module` must have a `forward` method defined. It takes in a tensor `x` and passes it through the operations you defined in the `__init__` method.\n",
    "\n",
    "```python\n",
    "x = self.hidden(x)\n",
    "x = self.sigmoid(x)\n",
    "x = self.output(x)\n",
    "x = self.softmax(x)\n",
    "```\n",
    "\n",
    "Here the input tensor `x` is passed through each operation a reassigned to `x`. We can see that the input tensor goes through the hidden layer, then a sigmoid function, then the output layer, and finally the softmax function. It doesn't matter what you name the variables here, as long as the inputs and outputs of the operations match the network architecture you want to build. The order in which you define things in the `__init__` method doesn't matter, but you'll need to sequence the operations correctly in the `forward` method.\n",
    "\n",
    "Now we can create a `Network` object."
   ]
  },
  {
   "cell_type": "code",
   "execution_count": 15,
   "metadata": {},
   "outputs": [
    {
     "data": {
      "text/plain": [
       "Network(\n",
       "  (hidden): Linear(in_features=784, out_features=256, bias=True)\n",
       "  (output): Linear(in_features=256, out_features=10, bias=True)\n",
       "  (sigmoid): Sigmoid()\n",
       "  (softmax): Softmax()\n",
       ")"
      ]
     },
     "execution_count": 15,
     "metadata": {},
     "output_type": "execute_result"
    }
   ],
   "source": [
    "# Create the network and look at it's text representation\n",
    "model = Network()\n",
    "model"
   ]
  },
  {
   "cell_type": "markdown",
   "metadata": {},
   "source": [
    "You can define the network somewhat more concisely and clearly using the `torch.nn.functional` module. This is the most common way you'll see networks defined as many operations are simple element-wise functions. We normally import this module as `F`, `import torch.nn.functional as F`."
   ]
  },
  {
   "cell_type": "code",
   "execution_count": 16,
   "metadata": {},
   "outputs": [],
   "source": [
    "import torch.nn.functional as F\n",
    "\n",
    "class Network(nn.Module):\n",
    "    def __init__(self):\n",
    "        super().__init__()\n",
    "        # Inputs to hidden layer linear transformation\n",
    "        self.hidden = nn.Linear(784, 256)\n",
    "        # Output layer, 10 units - one for each digit\n",
    "        self.output = nn.Linear(256, 10)\n",
    "        \n",
    "    def forward(self, x):\n",
    "        # Hidden layer with sigmoid activation\n",
    "        x = F.sigmoid(self.hidden(x))\n",
    "        # Output layer with softmax activation\n",
    "        x = F.softmax(self.output(x), dim=1)\n",
    "        \n",
    "        return x"
   ]
  },
  {
   "cell_type": "markdown",
   "metadata": {},
   "source": [
    "### Activation functions\n",
    "\n",
    "So far we've only been looking at the softmax activation, but in general any function can be used as an activation function. The only requirement is that for a network to approximate a non-linear function, the activation functions must be non-linear. Here are a few more examples of common activation functions: Tanh (hyperbolic tangent), and ReLU (rectified linear unit).\n",
    "\n",
    "<img src=\"assets/activation.png\" width=700px>\n",
    "\n",
    "In practice, the ReLU function is used almost exclusively as the activation function for hidden layers."
   ]
  },
  {
   "cell_type": "markdown",
   "metadata": {},
   "source": [
    "### Your Turn to Build a Network\n",
    "\n",
    "<img src=\"assets/mlp_mnist.png\" width=600px>\n",
    "\n",
    "> **Exercise:** Create a network with 784 input units, a hidden layer with 128 units and a ReLU activation, then a hidden layer with 64 units and a ReLU activation, and finally an output layer with a softmax activation as shown above. You can use a ReLU activation with the `nn.ReLU` module or `F.relu` function."
   ]
  },
  {
   "cell_type": "code",
   "execution_count": 17,
   "metadata": {
    "scrolled": true
   },
   "outputs": [],
   "source": [
    "## Your solution here\n",
    "class Network(nn.Module):\n",
    "    def __init__(self):\n",
    "        super().__init__()\n",
    "        \n",
    "        \n",
    "        self.hidden = nn.Linear(784, 128)\n",
    "        self.hidden2 = nn.Linear(128, 64)\n",
    "        self.output = nn.Linear(64, 10)\n",
    "        \n",
    "        self.relu = nn.ReLU\n",
    "        self.softmax = nn.Softmax\n",
    "        \n",
    "    def forward(self, x):\n",
    "        x = self.hidden(x)\n",
    "        x = self.relu(x)\n",
    "        x = self.hidden2(x)\n",
    "        x = self.relu(x)\n",
    "        x = self.output(x)\n",
    "        x = self.softmax(x)\n",
    "        \n",
    "        return x"
   ]
  },
  {
   "cell_type": "markdown",
   "metadata": {},
   "source": [
    "### Initializing weights and biases\n",
    "\n",
    "The weights and such are automatically initialized for you, but it's possible to customize how they are initialized. The weights and biases are tensors attached to the layer you defined, you can get them with `model.fc1.weight` for instance."
   ]
  },
  {
   "cell_type": "code",
   "execution_count": 20,
   "metadata": {},
   "outputs": [
    {
     "ename": "AttributeError",
     "evalue": "'Network' object has no attribute 'fc1'",
     "output_type": "error",
     "traceback": [
      "\u001b[0;31m---------------------------------------------------------------------------\u001b[0m",
      "\u001b[0;31mAttributeError\u001b[0m                            Traceback (most recent call last)",
      "\u001b[0;32m<ipython-input-20-59b34e7f797b>\u001b[0m in \u001b[0;36m<module>\u001b[0;34m()\u001b[0m\n\u001b[0;32m----> 1\u001b[0;31m \u001b[0mprint\u001b[0m\u001b[0;34m(\u001b[0m\u001b[0mmodel\u001b[0m\u001b[0;34m.\u001b[0m\u001b[0mfc1\u001b[0m\u001b[0;34m.\u001b[0m\u001b[0mweight\u001b[0m\u001b[0;34m)\u001b[0m\u001b[0;34m\u001b[0m\u001b[0m\n\u001b[0m\u001b[1;32m      2\u001b[0m \u001b[0mprint\u001b[0m\u001b[0;34m(\u001b[0m\u001b[0mmodel\u001b[0m\u001b[0;34m.\u001b[0m\u001b[0mfc1\u001b[0m\u001b[0;34m.\u001b[0m\u001b[0mbias\u001b[0m\u001b[0;34m)\u001b[0m\u001b[0;34m\u001b[0m\u001b[0m\n",
      "\u001b[0;32m/opt/conda/lib/python3.6/site-packages/torch/nn/modules/module.py\u001b[0m in \u001b[0;36m__getattr__\u001b[0;34m(self, name)\u001b[0m\n\u001b[1;32m    530\u001b[0m                 \u001b[0;32mreturn\u001b[0m \u001b[0mmodules\u001b[0m\u001b[0;34m[\u001b[0m\u001b[0mname\u001b[0m\u001b[0;34m]\u001b[0m\u001b[0;34m\u001b[0m\u001b[0m\n\u001b[1;32m    531\u001b[0m         raise AttributeError(\"'{}' object has no attribute '{}'\".format(\n\u001b[0;32m--> 532\u001b[0;31m             type(self).__name__, name))\n\u001b[0m\u001b[1;32m    533\u001b[0m \u001b[0;34m\u001b[0m\u001b[0m\n\u001b[1;32m    534\u001b[0m     \u001b[0;32mdef\u001b[0m \u001b[0m__setattr__\u001b[0m\u001b[0;34m(\u001b[0m\u001b[0mself\u001b[0m\u001b[0;34m,\u001b[0m \u001b[0mname\u001b[0m\u001b[0;34m,\u001b[0m \u001b[0mvalue\u001b[0m\u001b[0;34m)\u001b[0m\u001b[0;34m:\u001b[0m\u001b[0;34m\u001b[0m\u001b[0m\n",
      "\u001b[0;31mAttributeError\u001b[0m: 'Network' object has no attribute 'fc1'"
     ]
    }
   ],
   "source": [
    "print(model.fc1.weight)\n",
    "print(model.fc1.bias)"
   ]
  },
  {
   "cell_type": "markdown",
   "metadata": {},
   "source": [
    "For custom initialization, we want to modify these tensors in place. These are actually autograd *Variables*, so we need to get back the actual tensors with `model.fc1.weight.data`. Once we have the tensors, we can fill them with zeros (for biases) or random normal values."
   ]
  },
  {
   "cell_type": "code",
   "execution_count": 21,
   "metadata": {},
   "outputs": [
    {
     "ename": "AttributeError",
     "evalue": "'Network' object has no attribute 'fc1'",
     "output_type": "error",
     "traceback": [
      "\u001b[0;31m---------------------------------------------------------------------------\u001b[0m",
      "\u001b[0;31mAttributeError\u001b[0m                            Traceback (most recent call last)",
      "\u001b[0;32m<ipython-input-21-7f3924b78efd>\u001b[0m in \u001b[0;36m<module>\u001b[0;34m()\u001b[0m\n\u001b[1;32m      1\u001b[0m \u001b[0;31m# Set biases to all zeros\u001b[0m\u001b[0;34m\u001b[0m\u001b[0;34m\u001b[0m\u001b[0m\n\u001b[0;32m----> 2\u001b[0;31m \u001b[0mmodel\u001b[0m\u001b[0;34m.\u001b[0m\u001b[0mfc1\u001b[0m\u001b[0;34m.\u001b[0m\u001b[0mbias\u001b[0m\u001b[0;34m.\u001b[0m\u001b[0mdata\u001b[0m\u001b[0;34m.\u001b[0m\u001b[0mfill_\u001b[0m\u001b[0;34m(\u001b[0m\u001b[0;36m0\u001b[0m\u001b[0;34m)\u001b[0m\u001b[0;34m\u001b[0m\u001b[0m\n\u001b[0m",
      "\u001b[0;32m/opt/conda/lib/python3.6/site-packages/torch/nn/modules/module.py\u001b[0m in \u001b[0;36m__getattr__\u001b[0;34m(self, name)\u001b[0m\n\u001b[1;32m    530\u001b[0m                 \u001b[0;32mreturn\u001b[0m \u001b[0mmodules\u001b[0m\u001b[0;34m[\u001b[0m\u001b[0mname\u001b[0m\u001b[0;34m]\u001b[0m\u001b[0;34m\u001b[0m\u001b[0m\n\u001b[1;32m    531\u001b[0m         raise AttributeError(\"'{}' object has no attribute '{}'\".format(\n\u001b[0;32m--> 532\u001b[0;31m             type(self).__name__, name))\n\u001b[0m\u001b[1;32m    533\u001b[0m \u001b[0;34m\u001b[0m\u001b[0m\n\u001b[1;32m    534\u001b[0m     \u001b[0;32mdef\u001b[0m \u001b[0m__setattr__\u001b[0m\u001b[0;34m(\u001b[0m\u001b[0mself\u001b[0m\u001b[0;34m,\u001b[0m \u001b[0mname\u001b[0m\u001b[0;34m,\u001b[0m \u001b[0mvalue\u001b[0m\u001b[0;34m)\u001b[0m\u001b[0;34m:\u001b[0m\u001b[0;34m\u001b[0m\u001b[0m\n",
      "\u001b[0;31mAttributeError\u001b[0m: 'Network' object has no attribute 'fc1'"
     ]
    }
   ],
   "source": [
    "# Set biases to all zeros\n",
    "model.fc1.bias.data.fill_(0)"
   ]
  },
  {
   "cell_type": "code",
   "execution_count": 22,
   "metadata": {},
   "outputs": [
    {
     "ename": "AttributeError",
     "evalue": "'Network' object has no attribute 'fc1'",
     "output_type": "error",
     "traceback": [
      "\u001b[0;31m---------------------------------------------------------------------------\u001b[0m",
      "\u001b[0;31mAttributeError\u001b[0m                            Traceback (most recent call last)",
      "\u001b[0;32m<ipython-input-22-51cf007dbb9a>\u001b[0m in \u001b[0;36m<module>\u001b[0;34m()\u001b[0m\n\u001b[1;32m      1\u001b[0m \u001b[0;31m# sample from random normal with standard dev = 0.01\u001b[0m\u001b[0;34m\u001b[0m\u001b[0;34m\u001b[0m\u001b[0m\n\u001b[0;32m----> 2\u001b[0;31m \u001b[0mmodel\u001b[0m\u001b[0;34m.\u001b[0m\u001b[0mfc1\u001b[0m\u001b[0;34m.\u001b[0m\u001b[0mweight\u001b[0m\u001b[0;34m.\u001b[0m\u001b[0mdata\u001b[0m\u001b[0;34m.\u001b[0m\u001b[0mnormal_\u001b[0m\u001b[0;34m(\u001b[0m\u001b[0mstd\u001b[0m\u001b[0;34m=\u001b[0m\u001b[0;36m0.01\u001b[0m\u001b[0;34m)\u001b[0m\u001b[0;34m\u001b[0m\u001b[0m\n\u001b[0m",
      "\u001b[0;32m/opt/conda/lib/python3.6/site-packages/torch/nn/modules/module.py\u001b[0m in \u001b[0;36m__getattr__\u001b[0;34m(self, name)\u001b[0m\n\u001b[1;32m    530\u001b[0m                 \u001b[0;32mreturn\u001b[0m \u001b[0mmodules\u001b[0m\u001b[0;34m[\u001b[0m\u001b[0mname\u001b[0m\u001b[0;34m]\u001b[0m\u001b[0;34m\u001b[0m\u001b[0m\n\u001b[1;32m    531\u001b[0m         raise AttributeError(\"'{}' object has no attribute '{}'\".format(\n\u001b[0;32m--> 532\u001b[0;31m             type(self).__name__, name))\n\u001b[0m\u001b[1;32m    533\u001b[0m \u001b[0;34m\u001b[0m\u001b[0m\n\u001b[1;32m    534\u001b[0m     \u001b[0;32mdef\u001b[0m \u001b[0m__setattr__\u001b[0m\u001b[0;34m(\u001b[0m\u001b[0mself\u001b[0m\u001b[0;34m,\u001b[0m \u001b[0mname\u001b[0m\u001b[0;34m,\u001b[0m \u001b[0mvalue\u001b[0m\u001b[0;34m)\u001b[0m\u001b[0;34m:\u001b[0m\u001b[0;34m\u001b[0m\u001b[0m\n",
      "\u001b[0;31mAttributeError\u001b[0m: 'Network' object has no attribute 'fc1'"
     ]
    }
   ],
   "source": [
    "# sample from random normal with standard dev = 0.01\n",
    "model.fc1.weight.data.normal_(std=0.01)"
   ]
  },
  {
   "cell_type": "markdown",
   "metadata": {},
   "source": [
    "### Forward pass\n",
    "\n",
    "Now that we have a network, let's see what happens when we pass in an image."
   ]
  },
  {
   "cell_type": "code",
   "execution_count": null,
   "metadata": {
    "collapsed": true
   },
   "outputs": [],
   "source": [
    "# Grab some data \n",
    "dataiter = iter(trainloader)\n",
    "images, labels = dataiter.next()\n",
    "\n",
    "# Resize images into a 1D vector, new shape is (batch size, color channels, image pixels) \n",
    "images.resize_(64, 1, 784)\n",
    "# or images.resize_(images.shape[0], 1, 784) to automatically get batch size\n",
    "\n",
    "# Forward pass through the network\n",
    "img_idx = 0\n",
    "ps = model.forward(images[img_idx,:])\n",
    "\n",
    "img = images[img_idx]\n",
    "helper.view_classify(img.view(1, 28, 28), ps)"
   ]
  },
  {
   "cell_type": "markdown",
   "metadata": {},
   "source": [
    "As you can see above, our network has basically no idea what this digit is. It's because we haven't trained it yet, all the weights are random!\n",
    "\n",
    "### Using `nn.Sequential`\n",
    "\n",
    "PyTorch provides a convenient way to build networks like this where a tensor is passed sequentially through operations, `nn.Sequential` ([documentation](https://pytorch.org/docs/master/nn.html#torch.nn.Sequential)). Using this to build the equivalent network:"
   ]
  },
  {
   "cell_type": "code",
   "execution_count": null,
   "metadata": {
    "collapsed": true
   },
   "outputs": [],
   "source": [
    "# Hyperparameters for our network\n",
    "input_size = 784\n",
    "hidden_sizes = [128, 64]\n",
    "output_size = 10\n",
    "\n",
    "# Build a feed-forward network\n",
    "model = nn.Sequential(nn.Linear(input_size, hidden_sizes[0]),\n",
    "                      nn.ReLU(),\n",
    "                      nn.Linear(hidden_sizes[0], hidden_sizes[1]),\n",
    "                      nn.ReLU(),\n",
    "                      nn.Linear(hidden_sizes[1], output_size),\n",
    "                      nn.Softmax(dim=1))\n",
    "print(model)\n",
    "\n",
    "# Forward pass through the network and display output\n",
    "images, labels = next(iter(trainloader))\n",
    "images.resize_(images.shape[0], 1, 784)\n",
    "ps = model.forward(images[0,:])\n",
    "helper.view_classify(images[0].view(1, 28, 28), ps)"
   ]
  },
  {
   "cell_type": "markdown",
   "metadata": {},
   "source": [
    "Here our model is the same as before: 784 input units, a hidden layer with 128 units, ReLU activation, 64 unit hidden layer, another ReLU, then the output layer with 10 units, and the softmax output.\n",
    "\n",
    "The operations are availble by passing in the appropriate index. For example, if you want to get first Linear operation and look at the weights, you'd use `model[0]`."
   ]
  },
  {
   "cell_type": "code",
   "execution_count": null,
   "metadata": {
    "collapsed": true
   },
   "outputs": [],
   "source": [
    "print(model[0])\n",
    "model[0].weight"
   ]
  },
  {
   "cell_type": "markdown",
   "metadata": {},
   "source": [
    "You can also pass in an `OrderedDict` to name the individual layers and operations, instead of using incremental integers. Note that dictionary keys must be unique, so _each operation must have a different name_."
   ]
  },
  {
   "cell_type": "code",
   "execution_count": null,
   "metadata": {
    "collapsed": true
   },
   "outputs": [],
   "source": [
    "from collections import OrderedDict\n",
    "model = nn.Sequential(OrderedDict([\n",
    "                      ('fc1', nn.Linear(input_size, hidden_sizes[0])),\n",
    "                      ('relu1', nn.ReLU()),\n",
    "                      ('fc2', nn.Linear(hidden_sizes[0], hidden_sizes[1])),\n",
    "                      ('relu2', nn.ReLU()),\n",
    "                      ('output', nn.Linear(hidden_sizes[1], output_size)),\n",
    "                      ('softmax', nn.Softmax(dim=1))]))\n",
    "model"
   ]
  },
  {
   "cell_type": "markdown",
   "metadata": {},
   "source": [
    "Now you can access layers either by integer or the name"
   ]
  },
  {
   "cell_type": "code",
   "execution_count": null,
   "metadata": {
    "collapsed": true
   },
   "outputs": [],
   "source": [
    "print(model[0])\n",
    "print(model.fc1)"
   ]
  },
  {
   "cell_type": "markdown",
   "metadata": {},
   "source": [
    "In the next notebook, we'll see how we can train a neural network to accuractly predict the numbers appearing in the MNIST images."
   ]
  }
 ],
 "metadata": {
  "kernelspec": {
   "display_name": "Python 3",
   "language": "python",
   "name": "python3"
  },
  "language_info": {
   "codemirror_mode": {
    "name": "ipython",
    "version": 3
   },
   "file_extension": ".py",
   "mimetype": "text/x-python",
   "name": "python",
   "nbconvert_exporter": "python",
   "pygments_lexer": "ipython3",
   "version": "3.6.3"
  }
 },
 "nbformat": 4,
 "nbformat_minor": 2
}
